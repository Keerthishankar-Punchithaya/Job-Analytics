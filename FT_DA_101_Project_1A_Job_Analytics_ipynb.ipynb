{
  "nbformat": 4,
  "nbformat_minor": 0,
  "metadata": {
    "colab": {
      "provenance": [],
      "authorship_tag": "ABX9TyN0MxcmrnqzdgOsstEGQoH0",
      "include_colab_link": true
    },
    "kernelspec": {
      "name": "python3",
      "display_name": "Python 3"
    },
    "language_info": {
      "name": "python"
    }
  },
  "cells": [
    {
      "cell_type": "markdown",
      "metadata": {
        "id": "view-in-github",
        "colab_type": "text"
      },
      "source": [
        "<a href=\"https://colab.research.google.com/github/Keerthishankar-Punchithaya/Job-Analytics/blob/main/FT_DA_101_Project_1A_Job_Analytics_ipynb.ipynb\" target=\"_parent\"><img src=\"https://colab.research.google.com/assets/colab-badge.svg\" alt=\"Open In Colab\"/></a>"
      ]
    },
    {
      "cell_type": "markdown",
      "source": [
        "# ***Job Analytics***\n",
        "\n",
        "---\n",
        "\n"
      ],
      "metadata": {
        "id": "2hOAP3x3p5ZW"
      }
    },
    {
      "cell_type": "markdown",
      "source": [
        "# **Web Scraping**\n",
        "\n",
        "---\n",
        "\n",
        "\n",
        "\n",
        "---\n",
        "\n"
      ],
      "metadata": {
        "id": "n9f6MTvebWAf"
      }
    },
    {
      "cell_type": "markdown",
      "source": [
        "**1. Handling Null Values**"
      ],
      "metadata": {
        "id": "gUYTzKANeGD0"
      }
    },
    {
      "cell_type": "code",
      "source": [],
      "metadata": {
        "id": "sCzO5bX0eRtR"
      },
      "execution_count": null,
      "outputs": []
    },
    {
      "cell_type": "code",
      "source": [
        "# install selenium and pandas\n",
        "!pip install selenium\n",
        "!pip install pandas"
      ],
      "metadata": {
        "id": "MqN6-Pxeb1VJ"
      },
      "execution_count": 3,
      "outputs": []
    },
    {
      "cell_type": "code",
      "source": [
        "import requests\n",
        "from bs4 import BeautifulSoup\n",
        "import requests\n",
        "# import gspread\n",
        "import pandas as pd\n",
        "from selenium import webdriver\n",
        "from selenium.webdriver.chrome.options import Options\n",
        "from selenium.webdriver.common.keys import Keys\n",
        "from selenium.webdriver.common.by import By\n",
        "# from gspread_dataframe import set_with_dataframe\n",
        "import requests\n",
        "import selenium.webdriver as webdriver\n",
        "import time\n",
        "from datetime import datetime\n",
        "pd.set_option('display.max_columns', None)\n",
        "pd.set_option('display.max_rows', None)\n",
        "from selenium.webdriver.common.by import By\n",
        "from selenium.webdriver.support.ui import WebDriverWait\n",
        "from selenium.webdriver.support import expected_conditions as EC\n",
        "from selenium.webdriver.common.action_chains import ActionChains\n",
        "from selenium.webdriver.firefox.options import Options\n",
        "\n",
        "\n",
        "firefox_binary_path = r\"C:\\Program Files\\Mozilla Firefox\\firefox.exe\"\n",
        "\n",
        "# Create an instance of the Firefox Options class\n",
        "options = Options()\n",
        "\n",
        "# Set the binary location in the options\n",
        "options.binary_location = firefox_binary_path\n",
        "\n",
        "driver = webdriver.Firefox(options=options)\n",
        "\n",
        "url=\"https://www.instahyre.com/python-jobs\"\n",
        "page=requests.get(url)\n",
        "soup = BeautifulSoup(page.content, 'html.parser')\n",
        "\n",
        "\n",
        "driver.get(url)\n",
        "\n",
        "\n",
        "\n",
        "jobs_list=[]\n",
        "# Scroll down to load more jobs (you may need to adjust the loop and sleep time based on your needs)\n",
        "for _ in range(21):\n",
        "    driver.execute_script(\"window.scrollTo(0, document.body.scrollHeight);\")\n",
        "    time.sleep(2)\n",
        "\n",
        "    soup = BeautifulSoup(driver.page_source, 'html.parser')\n",
        "\n",
        "    openings = soup.find_all('div',{'class':'employer-row'})\n",
        "    # print(openings)\n",
        "    for opening in openings:\n",
        "        jobtitle=opening.find('div',{'class':'company-name ng-binding'}).text\n",
        "        # print(jobtitle)\n",
        "        location=opening.find('div',{'class':'employer-locations'}).text.strip()\n",
        "        founded=opening.find('span',{'ng-if':'opp.employer.company_founded'}).text.strip()\n",
        "        employee_count=opening.find('span',{'ng-if':'opp.employer.employee_count'}).text.strip()\n",
        "        about=opening.find('div',{'class':'employer-notes ng-binding ng-scope'})\n",
        "        if about:\n",
        "            description=about.text.strip()\n",
        "        else:\n",
        "            description='N/A'\n",
        "        skills_ul=opening.find('ul',{'class':'tags candidate-opp-keywords'})\n",
        "        skills_li=skills_ul.find_all('li',{'class':'ng-binding ng-scope'})\n",
        "        skills=','.join(li.text for li in skills_li)\n",
        "        # print(skills)\n",
        "        link=opening.find('a',{'id':'employer-profile-opportunity'}).get('href')\n",
        "        # link=link_tag.get('href')\n",
        "        data= {\n",
        "            'Job Title' : jobtitle,\n",
        "            'Location' : location,\n",
        "            'Company founded' : founded,\n",
        "            'Employee Count' : employee_count,\n",
        "            'Description' : description,\n",
        "            'Skills' : skills,\n",
        "            'Link' : link\n",
        "        }\n",
        "        jobs_list.append(data)\n",
        "\n",
        "    # next page button click\n",
        "    next_page_button = WebDriverWait(driver, 10).until(\n",
        "    EC.presence_of_element_located((By.CSS_SELECTOR, '[ng-class=\"{\\'hidden\\': currentPage === pages[pages.length - 1]}\"]'))\n",
        "    )\n",
        "\n",
        "\n",
        "    # Scroll to the element to make sure it's clickable\n",
        "    driver.execute_script(\"arguments[0].scrollIntoView(true);\", next_page_button)\n",
        "\n",
        "    # Click the \"Next Page\" button\n",
        "    next_page_button.click()\n",
        "\n",
        "df=pd.DataFrame(jobs_list)\n",
        "# print(df)\n",
        "df.to_csv('Instahyre_scrapping.csv',index=False)\n",
        "time.sleep(5)\n",
        "driver.quit()"
      ],
      "metadata": {
        "id": "W_VuDzLZYjaQ"
      },
      "execution_count": 3,
      "outputs": []
    },
    {
      "cell_type": "markdown",
      "source": [
        "# **Data Cleaning**\n",
        "\n",
        "---\n",
        "\n",
        "\n",
        "\n",
        "---\n",
        "\n"
      ],
      "metadata": {
        "id": "h6BGrnUlerAI"
      }
    },
    {
      "cell_type": "code",
      "source": [
        "# install csv and pandas\n",
        "\n",
        "!pip install csv\n",
        "!pip install pandas\n"
      ],
      "metadata": {
        "colab": {
          "base_uri": "https://localhost:8080/"
        },
        "id": "hS7e1MPnkwsC",
        "outputId": "d0e132d4-fbe3-478a-ae68-04a244bb14ef"
      },
      "execution_count": null,
      "outputs": [
        {
          "output_type": "stream",
          "name": "stdout",
          "text": [
            "\u001b[31mERROR: Could not find a version that satisfies the requirement csv (from versions: none)\u001b[0m\u001b[31m\n",
            "\u001b[0m\u001b[31mERROR: No matching distribution found for csv\u001b[0m\u001b[31m\n",
            "\u001b[0mRequirement already satisfied: pandas in /usr/local/lib/python3.10/dist-packages (1.5.3)\n",
            "Requirement already satisfied: python-dateutil>=2.8.1 in /usr/local/lib/python3.10/dist-packages (from pandas) (2.8.2)\n",
            "Requirement already satisfied: pytz>=2020.1 in /usr/local/lib/python3.10/dist-packages (from pandas) (2023.3.post1)\n",
            "Requirement already satisfied: numpy>=1.21.0 in /usr/local/lib/python3.10/dist-packages (from pandas) (1.23.5)\n",
            "Requirement already satisfied: six>=1.5 in /usr/local/lib/python3.10/dist-packages (from python-dateutil>=2.8.1->pandas) (1.16.0)\n"
          ]
        }
      ]
    },
    {
      "cell_type": "code",
      "source": [
        "import csv\n",
        "import pandas as pd\n",
        "df=pd.read_csv(\"Instahyre_scrapping.csv\")\n",
        "# df=pd.DataFrame(data, columns=[\"name\",\"location\",\"founded\",\"employees\",\"about\",\"skills\",\"link\"])\n",
        "print(df.head())"
      ],
      "metadata": {
        "colab": {
          "base_uri": "https://localhost:8080/"
        },
        "id": "Wd21qXhuiCah",
        "outputId": "bee09c22-2001-4b18-8f0b-e9a15ed86074"
      },
      "execution_count": 5,
      "outputs": [
        {
          "output_type": "stream",
          "name": "stdout",
          "text": [
            "                                           Job Title  \\\n",
            "0                                Adobe - AI Engineer   \n",
            "1             Allen Career Institute - Data Engineer   \n",
            "2                   AmberStudent - Software Engineer   \n",
            "3  Bristol Myers Squibb - Cloud Computing Develop...   \n",
            "4    Bristol Myers Squibb - Cloud Computing Engineer   \n",
            "\n",
            "                     Location  Company founded            Employee Count  \\\n",
            "0  Job available in Bangalore  Founded in 1982  More than 1000 employees   \n",
            "1  Job available in Bangalore  Founded in 1988  More than 1000 employees   \n",
            "2      Job available in Noida  Founded in 2016        50 - 200 employees   \n",
            "3  Job available in Hyderabad  Founded in 1887  More than 1000 employees   \n",
            "4  Job available in Hyderabad  Founded in 1887  More than 1000 employees   \n",
            "\n",
            "                                         Description  \\\n",
            "0  Founded in 1982 and headquartered in San Jose,...   \n",
            "1  Allen is a career coaching institute that offe...   \n",
            "2  AmberStudent is a one-click platform for cross...   \n",
            "3  Bristol Myers Squibb is a global biopharmaceut...   \n",
            "4  Bristol Myers Squibb is a global biopharmaceut...   \n",
            "\n",
            "                                      Skills  \\\n",
            "0  PyTorch,OpenCV,TensorFlow,Computer Vision   \n",
            "1                       ETL,AWS,Hadoop,MySQL   \n",
            "2        CI - CD,Shell Scripting,DevOps,Bash   \n",
            "3   AWS,Node.js,Terraform,AWS CloudFormation   \n",
            "4    DevOps,AWS,Terraform,AWS CloudFormation   \n",
            "\n",
            "                                                Link  \n",
            "0  https://www.instahyre.com/job-295410-ai-engine...  \n",
            "1  https://www.instahyre.com/job-295398-data-engi...  \n",
            "2  https://www.instahyre.com/job-295330-software-...  \n",
            "3  https://www.instahyre.com/job-295327-cloud-com...  \n",
            "4  https://www.instahyre.com/job-295311-cloud-com...  \n"
          ]
        }
      ]
    },
    {
      "cell_type": "code",
      "source": [],
      "metadata": {
        "id": "5-AKXj-XmHKQ"
      },
      "execution_count": null,
      "outputs": []
    },
    {
      "cell_type": "markdown",
      "source": [
        "**1. Handling Null Values**\n",
        "\n",
        "---\n"
      ],
      "metadata": {
        "id": "D48can4ue0aq"
      }
    },
    {
      "cell_type": "code",
      "source": [
        "# null value count per column\n",
        "df.isnull().sum()"
      ],
      "metadata": {
        "colab": {
          "base_uri": "https://localhost:8080/"
        },
        "id": "pq5itadEmhtN",
        "outputId": "1eab20c5-a32a-49ae-946a-f715c8404e95"
      },
      "execution_count": 6,
      "outputs": [
        {
          "output_type": "execute_result",
          "data": {
            "text/plain": [
              "Job Title          0\n",
              "Location           0\n",
              "Company founded    0\n",
              "Employee Count     2\n",
              "Description        9\n",
              "Skills             3\n",
              "Link               0\n",
              "dtype: int64"
            ]
          },
          "metadata": {},
          "execution_count": 6
        }
      ]
    },
    {
      "cell_type": "code",
      "source": [
        "# null value check\n",
        "df.isnull()"
      ],
      "metadata": {
        "colab": {
          "base_uri": "https://localhost:8080/",
          "height": 423
        },
        "id": "VYfgiXhCe0t3",
        "outputId": "096aeaff-c33f-4d56-ad8f-900fc9686220"
      },
      "execution_count": null,
      "outputs": [
        {
          "output_type": "execute_result",
          "data": {
            "text/plain": [
              "     name  location  founded  employees  about  skills   link\n",
              "0   False     False    False      False  False   False  False\n",
              "1   False     False    False      False  False   False  False\n",
              "2   False     False    False      False  False   False  False\n",
              "3   False     False    False      False  False   False  False\n",
              "4   False     False    False      False  False   False  False\n",
              "..    ...       ...      ...        ...    ...     ...    ...\n",
              "65  False     False    False      False  False   False  False\n",
              "66  False     False    False      False  False   False  False\n",
              "67  False     False    False      False  False   False  False\n",
              "68  False     False    False      False  False   False  False\n",
              "69  False     False    False      False  False   False  False\n",
              "\n",
              "[70 rows x 7 columns]"
            ],
            "text/html": [
              "\n",
              "  <div id=\"df-d4f32d10-79b9-4d59-a02c-e72af7f9c158\" class=\"colab-df-container\">\n",
              "    <div>\n",
              "<style scoped>\n",
              "    .dataframe tbody tr th:only-of-type {\n",
              "        vertical-align: middle;\n",
              "    }\n",
              "\n",
              "    .dataframe tbody tr th {\n",
              "        vertical-align: top;\n",
              "    }\n",
              "\n",
              "    .dataframe thead th {\n",
              "        text-align: right;\n",
              "    }\n",
              "</style>\n",
              "<table border=\"1\" class=\"dataframe\">\n",
              "  <thead>\n",
              "    <tr style=\"text-align: right;\">\n",
              "      <th></th>\n",
              "      <th>name</th>\n",
              "      <th>location</th>\n",
              "      <th>founded</th>\n",
              "      <th>employees</th>\n",
              "      <th>about</th>\n",
              "      <th>skills</th>\n",
              "      <th>link</th>\n",
              "    </tr>\n",
              "  </thead>\n",
              "  <tbody>\n",
              "    <tr>\n",
              "      <th>0</th>\n",
              "      <td>False</td>\n",
              "      <td>False</td>\n",
              "      <td>False</td>\n",
              "      <td>False</td>\n",
              "      <td>False</td>\n",
              "      <td>False</td>\n",
              "      <td>False</td>\n",
              "    </tr>\n",
              "    <tr>\n",
              "      <th>1</th>\n",
              "      <td>False</td>\n",
              "      <td>False</td>\n",
              "      <td>False</td>\n",
              "      <td>False</td>\n",
              "      <td>False</td>\n",
              "      <td>False</td>\n",
              "      <td>False</td>\n",
              "    </tr>\n",
              "    <tr>\n",
              "      <th>2</th>\n",
              "      <td>False</td>\n",
              "      <td>False</td>\n",
              "      <td>False</td>\n",
              "      <td>False</td>\n",
              "      <td>False</td>\n",
              "      <td>False</td>\n",
              "      <td>False</td>\n",
              "    </tr>\n",
              "    <tr>\n",
              "      <th>3</th>\n",
              "      <td>False</td>\n",
              "      <td>False</td>\n",
              "      <td>False</td>\n",
              "      <td>False</td>\n",
              "      <td>False</td>\n",
              "      <td>False</td>\n",
              "      <td>False</td>\n",
              "    </tr>\n",
              "    <tr>\n",
              "      <th>4</th>\n",
              "      <td>False</td>\n",
              "      <td>False</td>\n",
              "      <td>False</td>\n",
              "      <td>False</td>\n",
              "      <td>False</td>\n",
              "      <td>False</td>\n",
              "      <td>False</td>\n",
              "    </tr>\n",
              "    <tr>\n",
              "      <th>...</th>\n",
              "      <td>...</td>\n",
              "      <td>...</td>\n",
              "      <td>...</td>\n",
              "      <td>...</td>\n",
              "      <td>...</td>\n",
              "      <td>...</td>\n",
              "      <td>...</td>\n",
              "    </tr>\n",
              "    <tr>\n",
              "      <th>65</th>\n",
              "      <td>False</td>\n",
              "      <td>False</td>\n",
              "      <td>False</td>\n",
              "      <td>False</td>\n",
              "      <td>False</td>\n",
              "      <td>False</td>\n",
              "      <td>False</td>\n",
              "    </tr>\n",
              "    <tr>\n",
              "      <th>66</th>\n",
              "      <td>False</td>\n",
              "      <td>False</td>\n",
              "      <td>False</td>\n",
              "      <td>False</td>\n",
              "      <td>False</td>\n",
              "      <td>False</td>\n",
              "      <td>False</td>\n",
              "    </tr>\n",
              "    <tr>\n",
              "      <th>67</th>\n",
              "      <td>False</td>\n",
              "      <td>False</td>\n",
              "      <td>False</td>\n",
              "      <td>False</td>\n",
              "      <td>False</td>\n",
              "      <td>False</td>\n",
              "      <td>False</td>\n",
              "    </tr>\n",
              "    <tr>\n",
              "      <th>68</th>\n",
              "      <td>False</td>\n",
              "      <td>False</td>\n",
              "      <td>False</td>\n",
              "      <td>False</td>\n",
              "      <td>False</td>\n",
              "      <td>False</td>\n",
              "      <td>False</td>\n",
              "    </tr>\n",
              "    <tr>\n",
              "      <th>69</th>\n",
              "      <td>False</td>\n",
              "      <td>False</td>\n",
              "      <td>False</td>\n",
              "      <td>False</td>\n",
              "      <td>False</td>\n",
              "      <td>False</td>\n",
              "      <td>False</td>\n",
              "    </tr>\n",
              "  </tbody>\n",
              "</table>\n",
              "<p>70 rows × 7 columns</p>\n",
              "</div>\n",
              "    <div class=\"colab-df-buttons\">\n",
              "\n",
              "  <div class=\"colab-df-container\">\n",
              "    <button class=\"colab-df-convert\" onclick=\"convertToInteractive('df-d4f32d10-79b9-4d59-a02c-e72af7f9c158')\"\n",
              "            title=\"Convert this dataframe to an interactive table.\"\n",
              "            style=\"display:none;\">\n",
              "\n",
              "  <svg xmlns=\"http://www.w3.org/2000/svg\" height=\"24px\" viewBox=\"0 -960 960 960\">\n",
              "    <path d=\"M120-120v-720h720v720H120Zm60-500h600v-160H180v160Zm220 220h160v-160H400v160Zm0 220h160v-160H400v160ZM180-400h160v-160H180v160Zm440 0h160v-160H620v160ZM180-180h160v-160H180v160Zm440 0h160v-160H620v160Z\"/>\n",
              "  </svg>\n",
              "    </button>\n",
              "\n",
              "  <style>\n",
              "    .colab-df-container {\n",
              "      display:flex;\n",
              "      gap: 12px;\n",
              "    }\n",
              "\n",
              "    .colab-df-convert {\n",
              "      background-color: #E8F0FE;\n",
              "      border: none;\n",
              "      border-radius: 50%;\n",
              "      cursor: pointer;\n",
              "      display: none;\n",
              "      fill: #1967D2;\n",
              "      height: 32px;\n",
              "      padding: 0 0 0 0;\n",
              "      width: 32px;\n",
              "    }\n",
              "\n",
              "    .colab-df-convert:hover {\n",
              "      background-color: #E2EBFA;\n",
              "      box-shadow: 0px 1px 2px rgba(60, 64, 67, 0.3), 0px 1px 3px 1px rgba(60, 64, 67, 0.15);\n",
              "      fill: #174EA6;\n",
              "    }\n",
              "\n",
              "    .colab-df-buttons div {\n",
              "      margin-bottom: 4px;\n",
              "    }\n",
              "\n",
              "    [theme=dark] .colab-df-convert {\n",
              "      background-color: #3B4455;\n",
              "      fill: #D2E3FC;\n",
              "    }\n",
              "\n",
              "    [theme=dark] .colab-df-convert:hover {\n",
              "      background-color: #434B5C;\n",
              "      box-shadow: 0px 1px 3px 1px rgba(0, 0, 0, 0.15);\n",
              "      filter: drop-shadow(0px 1px 2px rgba(0, 0, 0, 0.3));\n",
              "      fill: #FFFFFF;\n",
              "    }\n",
              "  </style>\n",
              "\n",
              "    <script>\n",
              "      const buttonEl =\n",
              "        document.querySelector('#df-d4f32d10-79b9-4d59-a02c-e72af7f9c158 button.colab-df-convert');\n",
              "      buttonEl.style.display =\n",
              "        google.colab.kernel.accessAllowed ? 'block' : 'none';\n",
              "\n",
              "      async function convertToInteractive(key) {\n",
              "        const element = document.querySelector('#df-d4f32d10-79b9-4d59-a02c-e72af7f9c158');\n",
              "        const dataTable =\n",
              "          await google.colab.kernel.invokeFunction('convertToInteractive',\n",
              "                                                    [key], {});\n",
              "        if (!dataTable) return;\n",
              "\n",
              "        const docLinkHtml = 'Like what you see? Visit the ' +\n",
              "          '<a target=\"_blank\" href=https://colab.research.google.com/notebooks/data_table.ipynb>data table notebook</a>'\n",
              "          + ' to learn more about interactive tables.';\n",
              "        element.innerHTML = '';\n",
              "        dataTable['output_type'] = 'display_data';\n",
              "        await google.colab.output.renderOutput(dataTable, element);\n",
              "        const docLink = document.createElement('div');\n",
              "        docLink.innerHTML = docLinkHtml;\n",
              "        element.appendChild(docLink);\n",
              "      }\n",
              "    </script>\n",
              "  </div>\n",
              "\n",
              "\n",
              "<div id=\"df-dd672621-2138-4ba4-b013-5fb28ee583cb\">\n",
              "  <button class=\"colab-df-quickchart\" onclick=\"quickchart('df-dd672621-2138-4ba4-b013-5fb28ee583cb')\"\n",
              "            title=\"Suggest charts\"\n",
              "            style=\"display:none;\">\n",
              "\n",
              "<svg xmlns=\"http://www.w3.org/2000/svg\" height=\"24px\"viewBox=\"0 0 24 24\"\n",
              "     width=\"24px\">\n",
              "    <g>\n",
              "        <path d=\"M19 3H5c-1.1 0-2 .9-2 2v14c0 1.1.9 2 2 2h14c1.1 0 2-.9 2-2V5c0-1.1-.9-2-2-2zM9 17H7v-7h2v7zm4 0h-2V7h2v10zm4 0h-2v-4h2v4z\"/>\n",
              "    </g>\n",
              "</svg>\n",
              "  </button>\n",
              "\n",
              "<style>\n",
              "  .colab-df-quickchart {\n",
              "      --bg-color: #E8F0FE;\n",
              "      --fill-color: #1967D2;\n",
              "      --hover-bg-color: #E2EBFA;\n",
              "      --hover-fill-color: #174EA6;\n",
              "      --disabled-fill-color: #AAA;\n",
              "      --disabled-bg-color: #DDD;\n",
              "  }\n",
              "\n",
              "  [theme=dark] .colab-df-quickchart {\n",
              "      --bg-color: #3B4455;\n",
              "      --fill-color: #D2E3FC;\n",
              "      --hover-bg-color: #434B5C;\n",
              "      --hover-fill-color: #FFFFFF;\n",
              "      --disabled-bg-color: #3B4455;\n",
              "      --disabled-fill-color: #666;\n",
              "  }\n",
              "\n",
              "  .colab-df-quickchart {\n",
              "    background-color: var(--bg-color);\n",
              "    border: none;\n",
              "    border-radius: 50%;\n",
              "    cursor: pointer;\n",
              "    display: none;\n",
              "    fill: var(--fill-color);\n",
              "    height: 32px;\n",
              "    padding: 0;\n",
              "    width: 32px;\n",
              "  }\n",
              "\n",
              "  .colab-df-quickchart:hover {\n",
              "    background-color: var(--hover-bg-color);\n",
              "    box-shadow: 0 1px 2px rgba(60, 64, 67, 0.3), 0 1px 3px 1px rgba(60, 64, 67, 0.15);\n",
              "    fill: var(--button-hover-fill-color);\n",
              "  }\n",
              "\n",
              "  .colab-df-quickchart-complete:disabled,\n",
              "  .colab-df-quickchart-complete:disabled:hover {\n",
              "    background-color: var(--disabled-bg-color);\n",
              "    fill: var(--disabled-fill-color);\n",
              "    box-shadow: none;\n",
              "  }\n",
              "\n",
              "  .colab-df-spinner {\n",
              "    border: 2px solid var(--fill-color);\n",
              "    border-color: transparent;\n",
              "    border-bottom-color: var(--fill-color);\n",
              "    animation:\n",
              "      spin 1s steps(1) infinite;\n",
              "  }\n",
              "\n",
              "  @keyframes spin {\n",
              "    0% {\n",
              "      border-color: transparent;\n",
              "      border-bottom-color: var(--fill-color);\n",
              "      border-left-color: var(--fill-color);\n",
              "    }\n",
              "    20% {\n",
              "      border-color: transparent;\n",
              "      border-left-color: var(--fill-color);\n",
              "      border-top-color: var(--fill-color);\n",
              "    }\n",
              "    30% {\n",
              "      border-color: transparent;\n",
              "      border-left-color: var(--fill-color);\n",
              "      border-top-color: var(--fill-color);\n",
              "      border-right-color: var(--fill-color);\n",
              "    }\n",
              "    40% {\n",
              "      border-color: transparent;\n",
              "      border-right-color: var(--fill-color);\n",
              "      border-top-color: var(--fill-color);\n",
              "    }\n",
              "    60% {\n",
              "      border-color: transparent;\n",
              "      border-right-color: var(--fill-color);\n",
              "    }\n",
              "    80% {\n",
              "      border-color: transparent;\n",
              "      border-right-color: var(--fill-color);\n",
              "      border-bottom-color: var(--fill-color);\n",
              "    }\n",
              "    90% {\n",
              "      border-color: transparent;\n",
              "      border-bottom-color: var(--fill-color);\n",
              "    }\n",
              "  }\n",
              "</style>\n",
              "\n",
              "  <script>\n",
              "    async function quickchart(key) {\n",
              "      const quickchartButtonEl =\n",
              "        document.querySelector('#' + key + ' button');\n",
              "      quickchartButtonEl.disabled = true;  // To prevent multiple clicks.\n",
              "      quickchartButtonEl.classList.add('colab-df-spinner');\n",
              "      try {\n",
              "        const charts = await google.colab.kernel.invokeFunction(\n",
              "            'suggestCharts', [key], {});\n",
              "      } catch (error) {\n",
              "        console.error('Error during call to suggestCharts:', error);\n",
              "      }\n",
              "      quickchartButtonEl.classList.remove('colab-df-spinner');\n",
              "      quickchartButtonEl.classList.add('colab-df-quickchart-complete');\n",
              "    }\n",
              "    (() => {\n",
              "      let quickchartButtonEl =\n",
              "        document.querySelector('#df-dd672621-2138-4ba4-b013-5fb28ee583cb button');\n",
              "      quickchartButtonEl.style.display =\n",
              "        google.colab.kernel.accessAllowed ? 'block' : 'none';\n",
              "    })();\n",
              "  </script>\n",
              "</div>\n",
              "\n",
              "    </div>\n",
              "  </div>\n"
            ]
          },
          "metadata": {},
          "execution_count": 12
        }
      ]
    },
    {
      "cell_type": "code",
      "source": [
        "# inserting values into the null values\n",
        "import pandas as pd\n",
        "import numpy as np\n",
        "\n",
        "# Check for null values\n",
        "for col in df.columns:\n",
        "    null_rows = df[df[col].isnull()].index.tolist()\n",
        "    if null_rows:\n",
        "        print(f\"Null values in column '{col}' are at rows: {null_rows}\")\n",
        "        print(f\"column: {col}, rows: {df.loc[null_rows]['name']}\")\n",
        "        print(\"---------------------------------------------------------------\")\n",
        "        for i in range(len(null_rows)):\n",
        "          print(f\"-> Enter value to insert for\\n company: '{df.loc[null_rows[i],'name']}'\\n column: '{col}' \")\n",
        "          insert_value = input(\"Insert Value: \")\n",
        "        for row in null_rows:\n",
        "            df.at[row, col] = insert_value\n",
        "        print(\"---------------------------------------------------------------\")\n",
        "        print(\"Empty value filled!\")\n",
        "\n",
        "if df.isnull().sum().sum() == 0:\n",
        "    print(\"No empty value!\")\n",
        "else:\n",
        "    print(\"There are still empty values.\")\n",
        "\n",
        "# update changes on csv\n",
        "df.to_csv('Job_Analytics.csv',index=False)\n",
        "print(\"'Job_Analytics.csv'  updated!\")"
      ],
      "metadata": {
        "colab": {
          "base_uri": "https://localhost:8080/"
        },
        "id": "k7fJKai8ilF0",
        "outputId": "3dc1bfd5-8252-43f1-9e5f-cd38b44e5118"
      },
      "execution_count": null,
      "outputs": [
        {
          "output_type": "stream",
          "name": "stdout",
          "text": [
            "No empty value!\n",
            "'Job_Analytics.csv'  updated!\n"
          ]
        }
      ]
    },
    {
      "cell_type": "code",
      "source": [],
      "metadata": {
        "id": "JWt3u2bfikvN"
      },
      "execution_count": null,
      "outputs": []
    },
    {
      "cell_type": "markdown",
      "source": [
        "**2. Duplicate Values Removal**\n",
        "\n",
        "---\n",
        "\n"
      ],
      "metadata": {
        "id": "PY4cBvdifMKU"
      }
    },
    {
      "cell_type": "code",
      "source": [
        "import pandas as pd\n",
        "import numpy as np\n",
        "\n",
        "initial_length=len(df)\n",
        "\n",
        "# delete duplicate rows\n",
        "df.drop_duplicates(subset=['name'],inplace=True)\n",
        "final_length = len(df)\n",
        "print(f\"Number of duplicate rows removed: {initial_length - final_length}\")\n",
        "\n",
        "if df.isnull().sum().sum() == 0:\n",
        "    print(\"No empty value!\")\n",
        "else:\n",
        "    print(\"There are still empty values.\")\n",
        "print(\"=-=-=-=-=-=-=-=-=-=-=-=-=-=-=-=-=-=-=-=-=-=-=-=-=-=-=-=-=-=-=-=\")"
      ],
      "metadata": {
        "colab": {
          "base_uri": "https://localhost:8080/"
        },
        "id": "SIeOfaAmfvj4",
        "outputId": "40ec43e0-afa1-45d2-c58c-32775bcf1e09"
      },
      "execution_count": null,
      "outputs": [
        {
          "output_type": "stream",
          "name": "stdout",
          "text": [
            "Number of duplicate rows removed: 12\n",
            "No empty value!\n",
            "=-=-=-=-=-=-=-=-=-=-=-=-=-=-=-=-=-=-=-=-=-=-=-=-=-=-=-=-=-=-=-=\n"
          ]
        }
      ]
    },
    {
      "cell_type": "markdown",
      "source": [
        "**3. Data Type Standardisation**\n",
        "\n",
        "---\n",
        "\n"
      ],
      "metadata": {
        "id": "pWR7at_tfcIQ"
      }
    },
    {
      "cell_type": "code",
      "source": [
        "# check datatypes for each column\n",
        "print(df.dtypes)"
      ],
      "metadata": {
        "colab": {
          "base_uri": "https://localhost:8080/"
        },
        "id": "xGLbx0e3faDR",
        "outputId": "8a61b963-746a-4aed-d8fc-fbb63621d6d1"
      },
      "execution_count": null,
      "outputs": [
        {
          "output_type": "stream",
          "name": "stdout",
          "text": [
            "name         object\n",
            "location     object\n",
            "founded      object\n",
            "employees    object\n",
            "about        object\n",
            "skills       object\n",
            "link         object\n",
            "dtype: object\n"
          ]
        }
      ]
    },
    {
      "cell_type": "code",
      "source": [],
      "metadata": {
        "id": "48aqsje_jQYg"
      },
      "execution_count": null,
      "outputs": []
    },
    {
      "cell_type": "code",
      "source": [],
      "metadata": {
        "id": "BwdWOXldrcrK"
      },
      "execution_count": null,
      "outputs": []
    },
    {
      "cell_type": "markdown",
      "source": [
        "# **Data Visualisation**\n",
        "\n",
        "---\n",
        "\n",
        "\n",
        "\n",
        "---\n",
        "\n"
      ],
      "metadata": {
        "id": "LD0bZH9if_yf"
      }
    },
    {
      "cell_type": "code",
      "source": [
        "import pandas as pd\n",
        "import matplotlib.pyplot as plt\n",
        "import seaborn as sns"
      ],
      "metadata": {
        "id": "l08TmS1MmV9u"
      },
      "execution_count": null,
      "outputs": []
    },
    {
      "cell_type": "code",
      "source": [
        "# optional done\n",
        "\n",
        "df = pd.read_csv('Instahyre_scraper_SampleFile.csv')"
      ],
      "metadata": {
        "id": "4BSN__PonaJJ"
      },
      "execution_count": null,
      "outputs": []
    },
    {
      "cell_type": "code",
      "source": [],
      "metadata": {
        "id": "Gcq9orovnig1"
      },
      "execution_count": null,
      "outputs": []
    },
    {
      "cell_type": "markdown",
      "source": [
        "**1. Exploratory Data Analysis (EDA)**\n",
        "\n",
        "---\n"
      ],
      "metadata": {
        "id": "cACxcv8tgIHN"
      }
    },
    {
      "cell_type": "markdown",
      "source": [
        "Describe data:"
      ],
      "metadata": {
        "id": "5vfcFIt187Ia"
      }
    },
    {
      "cell_type": "code",
      "source": [
        "df.describe()"
      ],
      "metadata": {
        "colab": {
          "base_uri": "https://localhost:8080/",
          "height": 209
        },
        "id": "FHURTJpqgQoC",
        "outputId": "906a9701-4b45-4f9f-bfc1-bab030ae5956"
      },
      "execution_count": null,
      "outputs": [
        {
          "output_type": "execute_result",
          "data": {
            "text/plain": [
              "                                     name                    location  \\\n",
              "count                                  70                          70   \n",
              "unique                                 58                          12   \n",
              "top     Triomics - Lead Software Engineer  Job available in Bangalore   \n",
              "freq                                    2                          41   \n",
              "\n",
              "                founded                 employees  \\\n",
              "count                70                        70   \n",
              "unique               25                         6   \n",
              "top     Founded in 2012  More than 1000 employees   \n",
              "freq                  7                        26   \n",
              "\n",
              "                                                    about  skills  \\\n",
              "count                                                  70      70   \n",
              "unique                                                 52      56   \n",
              "top     Epicor provides business management software s...  Python   \n",
              "freq                                                    4       3   \n",
              "\n",
              "                                                     link  \n",
              "count                                                  70  \n",
              "unique                                                 60  \n",
              "top     https://www.instahyre.com/job-289031-principal...  \n",
              "freq                                                    2  "
            ],
            "text/html": [
              "\n",
              "  <div id=\"df-97c404f3-f932-4df9-81c1-97dcac8cb508\" class=\"colab-df-container\">\n",
              "    <div>\n",
              "<style scoped>\n",
              "    .dataframe tbody tr th:only-of-type {\n",
              "        vertical-align: middle;\n",
              "    }\n",
              "\n",
              "    .dataframe tbody tr th {\n",
              "        vertical-align: top;\n",
              "    }\n",
              "\n",
              "    .dataframe thead th {\n",
              "        text-align: right;\n",
              "    }\n",
              "</style>\n",
              "<table border=\"1\" class=\"dataframe\">\n",
              "  <thead>\n",
              "    <tr style=\"text-align: right;\">\n",
              "      <th></th>\n",
              "      <th>name</th>\n",
              "      <th>location</th>\n",
              "      <th>founded</th>\n",
              "      <th>employees</th>\n",
              "      <th>about</th>\n",
              "      <th>skills</th>\n",
              "      <th>link</th>\n",
              "    </tr>\n",
              "  </thead>\n",
              "  <tbody>\n",
              "    <tr>\n",
              "      <th>count</th>\n",
              "      <td>70</td>\n",
              "      <td>70</td>\n",
              "      <td>70</td>\n",
              "      <td>70</td>\n",
              "      <td>70</td>\n",
              "      <td>70</td>\n",
              "      <td>70</td>\n",
              "    </tr>\n",
              "    <tr>\n",
              "      <th>unique</th>\n",
              "      <td>58</td>\n",
              "      <td>12</td>\n",
              "      <td>25</td>\n",
              "      <td>6</td>\n",
              "      <td>52</td>\n",
              "      <td>56</td>\n",
              "      <td>60</td>\n",
              "    </tr>\n",
              "    <tr>\n",
              "      <th>top</th>\n",
              "      <td>Triomics - Lead Software Engineer</td>\n",
              "      <td>Job available in Bangalore</td>\n",
              "      <td>Founded in 2012</td>\n",
              "      <td>More than 1000 employees</td>\n",
              "      <td>Epicor provides business management software s...</td>\n",
              "      <td>Python</td>\n",
              "      <td>https://www.instahyre.com/job-289031-principal...</td>\n",
              "    </tr>\n",
              "    <tr>\n",
              "      <th>freq</th>\n",
              "      <td>2</td>\n",
              "      <td>41</td>\n",
              "      <td>7</td>\n",
              "      <td>26</td>\n",
              "      <td>4</td>\n",
              "      <td>3</td>\n",
              "      <td>2</td>\n",
              "    </tr>\n",
              "  </tbody>\n",
              "</table>\n",
              "</div>\n",
              "    <div class=\"colab-df-buttons\">\n",
              "\n",
              "  <div class=\"colab-df-container\">\n",
              "    <button class=\"colab-df-convert\" onclick=\"convertToInteractive('df-97c404f3-f932-4df9-81c1-97dcac8cb508')\"\n",
              "            title=\"Convert this dataframe to an interactive table.\"\n",
              "            style=\"display:none;\">\n",
              "\n",
              "  <svg xmlns=\"http://www.w3.org/2000/svg\" height=\"24px\" viewBox=\"0 -960 960 960\">\n",
              "    <path d=\"M120-120v-720h720v720H120Zm60-500h600v-160H180v160Zm220 220h160v-160H400v160Zm0 220h160v-160H400v160ZM180-400h160v-160H180v160Zm440 0h160v-160H620v160ZM180-180h160v-160H180v160Zm440 0h160v-160H620v160Z\"/>\n",
              "  </svg>\n",
              "    </button>\n",
              "\n",
              "  <style>\n",
              "    .colab-df-container {\n",
              "      display:flex;\n",
              "      gap: 12px;\n",
              "    }\n",
              "\n",
              "    .colab-df-convert {\n",
              "      background-color: #E8F0FE;\n",
              "      border: none;\n",
              "      border-radius: 50%;\n",
              "      cursor: pointer;\n",
              "      display: none;\n",
              "      fill: #1967D2;\n",
              "      height: 32px;\n",
              "      padding: 0 0 0 0;\n",
              "      width: 32px;\n",
              "    }\n",
              "\n",
              "    .colab-df-convert:hover {\n",
              "      background-color: #E2EBFA;\n",
              "      box-shadow: 0px 1px 2px rgba(60, 64, 67, 0.3), 0px 1px 3px 1px rgba(60, 64, 67, 0.15);\n",
              "      fill: #174EA6;\n",
              "    }\n",
              "\n",
              "    .colab-df-buttons div {\n",
              "      margin-bottom: 4px;\n",
              "    }\n",
              "\n",
              "    [theme=dark] .colab-df-convert {\n",
              "      background-color: #3B4455;\n",
              "      fill: #D2E3FC;\n",
              "    }\n",
              "\n",
              "    [theme=dark] .colab-df-convert:hover {\n",
              "      background-color: #434B5C;\n",
              "      box-shadow: 0px 1px 3px 1px rgba(0, 0, 0, 0.15);\n",
              "      filter: drop-shadow(0px 1px 2px rgba(0, 0, 0, 0.3));\n",
              "      fill: #FFFFFF;\n",
              "    }\n",
              "  </style>\n",
              "\n",
              "    <script>\n",
              "      const buttonEl =\n",
              "        document.querySelector('#df-97c404f3-f932-4df9-81c1-97dcac8cb508 button.colab-df-convert');\n",
              "      buttonEl.style.display =\n",
              "        google.colab.kernel.accessAllowed ? 'block' : 'none';\n",
              "\n",
              "      async function convertToInteractive(key) {\n",
              "        const element = document.querySelector('#df-97c404f3-f932-4df9-81c1-97dcac8cb508');\n",
              "        const dataTable =\n",
              "          await google.colab.kernel.invokeFunction('convertToInteractive',\n",
              "                                                    [key], {});\n",
              "        if (!dataTable) return;\n",
              "\n",
              "        const docLinkHtml = 'Like what you see? Visit the ' +\n",
              "          '<a target=\"_blank\" href=https://colab.research.google.com/notebooks/data_table.ipynb>data table notebook</a>'\n",
              "          + ' to learn more about interactive tables.';\n",
              "        element.innerHTML = '';\n",
              "        dataTable['output_type'] = 'display_data';\n",
              "        await google.colab.output.renderOutput(dataTable, element);\n",
              "        const docLink = document.createElement('div');\n",
              "        docLink.innerHTML = docLinkHtml;\n",
              "        element.appendChild(docLink);\n",
              "      }\n",
              "    </script>\n",
              "  </div>\n",
              "\n",
              "\n",
              "<div id=\"df-5fe70834-a2dc-488f-8d2b-20fc6c1fc263\">\n",
              "  <button class=\"colab-df-quickchart\" onclick=\"quickchart('df-5fe70834-a2dc-488f-8d2b-20fc6c1fc263')\"\n",
              "            title=\"Suggest charts\"\n",
              "            style=\"display:none;\">\n",
              "\n",
              "<svg xmlns=\"http://www.w3.org/2000/svg\" height=\"24px\"viewBox=\"0 0 24 24\"\n",
              "     width=\"24px\">\n",
              "    <g>\n",
              "        <path d=\"M19 3H5c-1.1 0-2 .9-2 2v14c0 1.1.9 2 2 2h14c1.1 0 2-.9 2-2V5c0-1.1-.9-2-2-2zM9 17H7v-7h2v7zm4 0h-2V7h2v10zm4 0h-2v-4h2v4z\"/>\n",
              "    </g>\n",
              "</svg>\n",
              "  </button>\n",
              "\n",
              "<style>\n",
              "  .colab-df-quickchart {\n",
              "      --bg-color: #E8F0FE;\n",
              "      --fill-color: #1967D2;\n",
              "      --hover-bg-color: #E2EBFA;\n",
              "      --hover-fill-color: #174EA6;\n",
              "      --disabled-fill-color: #AAA;\n",
              "      --disabled-bg-color: #DDD;\n",
              "  }\n",
              "\n",
              "  [theme=dark] .colab-df-quickchart {\n",
              "      --bg-color: #3B4455;\n",
              "      --fill-color: #D2E3FC;\n",
              "      --hover-bg-color: #434B5C;\n",
              "      --hover-fill-color: #FFFFFF;\n",
              "      --disabled-bg-color: #3B4455;\n",
              "      --disabled-fill-color: #666;\n",
              "  }\n",
              "\n",
              "  .colab-df-quickchart {\n",
              "    background-color: var(--bg-color);\n",
              "    border: none;\n",
              "    border-radius: 50%;\n",
              "    cursor: pointer;\n",
              "    display: none;\n",
              "    fill: var(--fill-color);\n",
              "    height: 32px;\n",
              "    padding: 0;\n",
              "    width: 32px;\n",
              "  }\n",
              "\n",
              "  .colab-df-quickchart:hover {\n",
              "    background-color: var(--hover-bg-color);\n",
              "    box-shadow: 0 1px 2px rgba(60, 64, 67, 0.3), 0 1px 3px 1px rgba(60, 64, 67, 0.15);\n",
              "    fill: var(--button-hover-fill-color);\n",
              "  }\n",
              "\n",
              "  .colab-df-quickchart-complete:disabled,\n",
              "  .colab-df-quickchart-complete:disabled:hover {\n",
              "    background-color: var(--disabled-bg-color);\n",
              "    fill: var(--disabled-fill-color);\n",
              "    box-shadow: none;\n",
              "  }\n",
              "\n",
              "  .colab-df-spinner {\n",
              "    border: 2px solid var(--fill-color);\n",
              "    border-color: transparent;\n",
              "    border-bottom-color: var(--fill-color);\n",
              "    animation:\n",
              "      spin 1s steps(1) infinite;\n",
              "  }\n",
              "\n",
              "  @keyframes spin {\n",
              "    0% {\n",
              "      border-color: transparent;\n",
              "      border-bottom-color: var(--fill-color);\n",
              "      border-left-color: var(--fill-color);\n",
              "    }\n",
              "    20% {\n",
              "      border-color: transparent;\n",
              "      border-left-color: var(--fill-color);\n",
              "      border-top-color: var(--fill-color);\n",
              "    }\n",
              "    30% {\n",
              "      border-color: transparent;\n",
              "      border-left-color: var(--fill-color);\n",
              "      border-top-color: var(--fill-color);\n",
              "      border-right-color: var(--fill-color);\n",
              "    }\n",
              "    40% {\n",
              "      border-color: transparent;\n",
              "      border-right-color: var(--fill-color);\n",
              "      border-top-color: var(--fill-color);\n",
              "    }\n",
              "    60% {\n",
              "      border-color: transparent;\n",
              "      border-right-color: var(--fill-color);\n",
              "    }\n",
              "    80% {\n",
              "      border-color: transparent;\n",
              "      border-right-color: var(--fill-color);\n",
              "      border-bottom-color: var(--fill-color);\n",
              "    }\n",
              "    90% {\n",
              "      border-color: transparent;\n",
              "      border-bottom-color: var(--fill-color);\n",
              "    }\n",
              "  }\n",
              "</style>\n",
              "\n",
              "  <script>\n",
              "    async function quickchart(key) {\n",
              "      const quickchartButtonEl =\n",
              "        document.querySelector('#' + key + ' button');\n",
              "      quickchartButtonEl.disabled = true;  // To prevent multiple clicks.\n",
              "      quickchartButtonEl.classList.add('colab-df-spinner');\n",
              "      try {\n",
              "        const charts = await google.colab.kernel.invokeFunction(\n",
              "            'suggestCharts', [key], {});\n",
              "      } catch (error) {\n",
              "        console.error('Error during call to suggestCharts:', error);\n",
              "      }\n",
              "      quickchartButtonEl.classList.remove('colab-df-spinner');\n",
              "      quickchartButtonEl.classList.add('colab-df-quickchart-complete');\n",
              "    }\n",
              "    (() => {\n",
              "      let quickchartButtonEl =\n",
              "        document.querySelector('#df-5fe70834-a2dc-488f-8d2b-20fc6c1fc263 button');\n",
              "      quickchartButtonEl.style.display =\n",
              "        google.colab.kernel.accessAllowed ? 'block' : 'none';\n",
              "    })();\n",
              "  </script>\n",
              "</div>\n",
              "\n",
              "    </div>\n",
              "  </div>\n"
            ]
          },
          "metadata": {},
          "execution_count": 20
        }
      ]
    },
    {
      "cell_type": "markdown",
      "source": [
        "check for null for columns:"
      ],
      "metadata": {
        "id": "T-xJXE_F88vD"
      }
    },
    {
      "cell_type": "code",
      "source": [
        "df.isnull().sum()"
      ],
      "metadata": {
        "colab": {
          "base_uri": "https://localhost:8080/"
        },
        "id": "bnA_wqcRqnyd",
        "outputId": "dfbcb646-2b6e-4c22-e350-278a3f9afdcf"
      },
      "execution_count": null,
      "outputs": [
        {
          "output_type": "execute_result",
          "data": {
            "text/plain": [
              "name         0\n",
              "location     0\n",
              "founded      0\n",
              "employees    0\n",
              "about        0\n",
              "skills       0\n",
              "link         0\n",
              "dtype: int64"
            ]
          },
          "metadata": {},
          "execution_count": 23
        }
      ]
    },
    {
      "cell_type": "code",
      "source": [],
      "metadata": {
        "id": "GpDNoRLgfH6h"
      },
      "execution_count": null,
      "outputs": []
    },
    {
      "cell_type": "markdown",
      "source": [
        "**2. Correlation Analysis**\n",
        "\n",
        "---\n",
        "\n"
      ],
      "metadata": {
        "id": "_UaRA_Y4giSM"
      }
    },
    {
      "cell_type": "code",
      "source": [],
      "metadata": {
        "id": "Z9Vd0wEWd7uT"
      },
      "execution_count": null,
      "outputs": []
    },
    {
      "cell_type": "markdown",
      "source": [
        "**3. Pattern Recognition**\n",
        "\n",
        "---\n",
        "\n"
      ],
      "metadata": {
        "id": "dX0QRhuNgiBt"
      }
    },
    {
      "cell_type": "code",
      "source": [],
      "metadata": {
        "id": "HyjEV7O_hN5l"
      },
      "execution_count": null,
      "outputs": []
    },
    {
      "cell_type": "markdown",
      "source": [
        "**4. Skill and Technology Trends Visualization**\n",
        "\n",
        "---\n",
        "\n"
      ],
      "metadata": {
        "id": "A69KFrZUghx-"
      }
    },
    {
      "cell_type": "code",
      "source": [],
      "metadata": {
        "id": "MLCgoXWrhOnX"
      },
      "execution_count": null,
      "outputs": []
    },
    {
      "cell_type": "markdown",
      "source": [
        "**5. Geographical Analysis Representation**\n",
        "\n",
        "---\n",
        "\n"
      ],
      "metadata": {
        "id": "OmsSxfFEghnW"
      }
    },
    {
      "cell_type": "markdown",
      "source": [
        "Location Visualization (univariate analysis):"
      ],
      "metadata": {
        "id": "ImA7n-3KeDeK"
      }
    },
    {
      "cell_type": "code",
      "source": [
        "plt.figure(figsize=(10, 6))\n",
        "df[\"location\"].value_counts().plot(kind=\"bar\")\n",
        "plt.xlabel(\"Location\")\n",
        "plt.ylabel(\"Number of Job Postings\")\n",
        "plt.title(\"Job Postings Distribution by Location\")\n",
        "plt.show()\n"
      ],
      "metadata": {
        "id": "D3HwIuy7hPQg",
        "colab": {
          "base_uri": "https://localhost:8080/",
          "height": 817
        },
        "outputId": "2ba75280-b060-4e0f-f24f-c672e423c209"
      },
      "execution_count": null,
      "outputs": [
        {
          "output_type": "display_data",
          "data": {
            "text/plain": [
              "<Figure size 1000x600 with 1 Axes>"
            ],
            "image/png": "[encoded data removed]"
          },
          "metadata": {}
        }
      ]
    },
    {
      "cell_type": "code",
      "source": [],
      "metadata": {
        "id": "rf9yvDbMeczb"
      },
      "execution_count": null,
      "outputs": []
    },
    {
      "cell_type": "markdown",
      "source": [
        "**6. Bonus**\n",
        "\n",
        "---\n",
        "\n"
      ],
      "metadata": {
        "id": "i1sMNXQqghM7"
      }
    },
    {
      "cell_type": "code",
      "source": [],
      "metadata": {
        "id": "AsjFCPfGd9sw"
      },
      "execution_count": null,
      "outputs": []
    }
  ]
}